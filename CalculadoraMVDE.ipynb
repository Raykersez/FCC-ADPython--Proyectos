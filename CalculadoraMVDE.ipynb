{
 "cells": [
  {
   "metadata": {},
   "cell_type": "markdown",
   "source": [
    "**#CASO DE ESTUDIO**\n",
    "\n",
    "Cree una función con nombre en que use Numpy para generar * Elementos de una matriz de 3 x 3, calcular:\n",
    "* La media\n",
    "* La varianza\n",
    "* La desviación estándar\n",
    "* El máximo, el mínimo y la suma de las filas\n"
   ],
   "id": "8f0e9018e0a2407d"
  },
  {
   "cell_type": "code",
   "id": "initial_id",
   "metadata": {
    "collapsed": true,
    "ExecuteTime": {
     "end_time": "2025-07-22T22:17:20.261304Z",
     "start_time": "2025-07-22T22:17:20.251085Z"
    }
   },
   "source": [
    "#CALCULADORA DE MEDIA-VARIANZA-DESVIACION ESTANDAR\n",
    "import numpy as np\n",
    "\n",
    "def calculate(b):\n",
    "    a = np.array(b).reshape(3, 3)\n",
    "    resultado = {\n",
    "        'mean': [list(np.mean(a, axis=0)), list(np.mean(a, axis=1)), float(np.mean(a))],\n",
    "        'variance': [list(np.var(a, axis=0)), list(np.var(a, axis=1)), float(np.var(a))],\n",
    "        'standard deviation': [list(np.std(a, axis=0)), list(np.std(a, axis=1)), float(np.std(a))],\n",
    "        'max': [list(np.max(a, axis=0)), list(np.max(a, axis=1)), int(np.max(a))],\n",
    "        'min': [list(np.min(a, axis=0)), list(np.min(a, axis=1)), int(np.min(a))],\n",
    "        'sum': [list(np.sum(a, axis=0)), list(np.sum(a, axis=1)), int(np.sum(a))]\n",
    "    }\n",
    "    return resultado\n",
    "calculate([1,2,3,4,5,6,7,8,9])"
   ],
   "outputs": [
    {
     "data": {
      "text/plain": [
       "{'mean': [[np.float64(4.0), np.float64(5.0), np.float64(6.0)],\n",
       "  [np.float64(2.0), np.float64(5.0), np.float64(8.0)],\n",
       "  5.0],\n",
       " 'variance': [[np.float64(6.0), np.float64(6.0), np.float64(6.0)],\n",
       "  [np.float64(0.6666666666666666),\n",
       "   np.float64(0.6666666666666666),\n",
       "   np.float64(0.6666666666666666)],\n",
       "  6.666666666666667],\n",
       " 'standard deviation': [[np.float64(2.449489742783178),\n",
       "   np.float64(2.449489742783178),\n",
       "   np.float64(2.449489742783178)],\n",
       "  [np.float64(0.816496580927726),\n",
       "   np.float64(0.816496580927726),\n",
       "   np.float64(0.816496580927726)],\n",
       "  2.581988897471611],\n",
       " 'max': [[np.int64(7), np.int64(8), np.int64(9)],\n",
       "  [np.int64(3), np.int64(6), np.int64(9)],\n",
       "  9],\n",
       " 'min': [[np.int64(1), np.int64(2), np.int64(3)],\n",
       "  [np.int64(1), np.int64(4), np.int64(7)],\n",
       "  1],\n",
       " 'sum': [[np.int64(12), np.int64(15), np.int64(18)],\n",
       "  [np.int64(6), np.int64(15), np.int64(24)],\n",
       "  45]}"
      ]
     },
     "execution_count": 1,
     "metadata": {},
     "output_type": "execute_result"
    }
   ],
   "execution_count": 1
  }
 ],
 "metadata": {
  "kernelspec": {
   "display_name": "Python 3",
   "language": "python",
   "name": "python3"
  },
  "language_info": {
   "codemirror_mode": {
    "name": "ipython",
    "version": 2
   },
   "file_extension": ".py",
   "mimetype": "text/x-python",
   "name": "python",
   "nbconvert_exporter": "python",
   "pygments_lexer": "ipython2",
   "version": "2.7.6"
  }
 },
 "nbformat": 4,
 "nbformat_minor": 5
}
