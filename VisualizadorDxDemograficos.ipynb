{
 "cells": [
  {
   "metadata": {},
   "cell_type": "markdown",
   "source": [
    "**#CASO DE ESTUDIO**\n",
    "\n",
    "En este desafío debe analizar los datos demográficos usando Pandas. Se le da un conjunto de datos demográficos que fueron extraidos de la base de datos del censo de 1994."
   ],
   "id": "8fe7e5c12c37be2a"
  },
  {
   "metadata": {},
   "cell_type": "markdown",
   "source": [
    "**Debes usar Pandas para responder a las siguientes preguntas:**\n",
    "\n",
    "* ¿Cuántas personas de cada raza están representadas en este set de datos? Debe ser una serie Pandas con los nombres de raza como índice. (race column)\n",
    "* ¿Cuál es la edad promedio de los hombres?\n",
    "* ¿Cuál es el porcentaje de personas que tienen un grado de licenciatura?\n",
    "* ¿Que porcentaje de personas con una educación avanzada (Bachelors, Masters o Doctorate) generan mas de 50k?\n",
    "* ¿Que porcentaje de personas sin una educación avanzada generan mas de 50k?\n",
    "* ¿Cuál es el mínimo número de horas que una persona trabaja por semana?\n",
    "* ¿Qué porcentaje de personas que trabajan el minimo de horas por semana tienen un salario de mas de 50k?\n",
    "* ¿Qué país tiene el mas alto porcentaje de personjas que ganan >50k y cual es ese porcentaje?\n",
    "* Identifica la ocupacion mas popular de aquellos que ganan >50k en India."
   ],
   "id": "898e5fe20f28a98a"
  },
  {
   "metadata": {
    "ExecuteTime": {
     "end_time": "2025-07-22T23:33:23.933634Z",
     "start_time": "2025-07-22T23:33:23.850250Z"
    }
   },
   "cell_type": "code",
   "source": [
    "import pandas as pd\n",
    "\n",
    "def calculate_demographic_data(print_data=True):\n",
    "    filepath = 'data/adult.data.csv'\n",
    "    df = pd.read_csv(filepath)\n",
    "    df.head()\n",
    "    # ¿Cuántas personas de cada raza están representadas en este set de datos? Debe ser una serie Pandas con los nombres de raza como índice. (race column)\n",
    "    race_count = df['race'].value_counts()\n",
    "\n",
    "    #  ¿Cuál es la edad promedio de los hombres?\n",
    "    males = df[df['sex']=='Male']\n",
    "    average_age_men =  males['age'].mean().round(1)\n",
    "\n",
    "    # ¿Cuál es el porcentaje de personas que tienen un grado de licenciatura?\n",
    "    bachelors = df[df['education']=='Bachelors'].shape[0]\n",
    "    percentage_bachelors = round((bachelors/df.shape[0])*100,1)\n",
    "\n",
    "    #  ¿Qué porcentaje de personas con una educación avanzada (Bachelors, Masters o Doctorate) generan mas de 50k?\n",
    "    #  ¿Qué porcentaje de personas sin una educación avanzada generan mas de 50k?\n",
    "    #  ¿Cuál es el mínimo número de horas que una persona trabaja por semana?\n",
    "\n",
    "    higher_education = df[df['education'].isin(['Bachelors','Masters','Doctorate'])]\n",
    "    lower_education = df[~df['education'].isin(['Bachelors','Masters','Doctorate'])]\n",
    "\n",
    "    high_salary = higher_education[higher_education['salary'] == '>50K']\n",
    "    high_salary2 = lower_education[lower_education['salary'] == '>50K']\n",
    "\n",
    "    higher_education_rich = round((high_salary.shape[0]/higher_education.shape[0])*100,1)\n",
    "    lower_education_rich = round((high_salary2.shape[0]/lower_education.shape[0])*100,1)\n",
    "\n",
    "    # Él minimo de horas por semana tienen un salario de más de 50k?\n",
    "    # Mínimo por semana\n",
    "    min_work_hours = df['hours-per-week'].min()\n",
    "\n",
    "    # ¿Qué porcentaje de personas sin una educación avanzada generan mas de 50k?\n",
    "    # ¿Cuál es el mínimo número de horas que una persona trabaja por semana?\n",
    "    # ¿Qué porcentaje de personas que trabajan el minimo de horas por semana tienen un salario de mas de 50k?\n",
    "    num_min_workers = df[df['hours-per-week']==min_work_hours]\n",
    "    min_workers = num_min_workers[num_min_workers['salary']=='>50K']\n",
    "    rich_percentage = round((min_workers.shape[0]/num_min_workers.shape[0])*100,1)\n",
    "\n",
    "    #¿Qué país tiene el mas alto porcentaje de personjas que ganan >50k y cual es ese porcentaje?\n",
    "    total_by_country = df['native-country'].value_counts()\n",
    "    rich_by_country = df[df['salary']== '>50K']['native-country'].value_counts()\n",
    "    rich_percentages = round((rich_by_country/total_by_country)*100,1)\n",
    "    highest_earning_country = rich_percentages.idxmax()\n",
    "    highest_earning_country_percentage = round(rich_percentages.max(),1)\n",
    "\n",
    "    # Identifica la ocupacion mas popular de aquellos que ganan >50k en India.\n",
    "    top = df[(df['native-country']=='India') & (df['salary'] == '>50K' ) ] ['occupation'].value_counts()\n",
    "    top_IN_occupation = top.idxmax()\n",
    "\n",
    "    if print_data:\n",
    "        print(\"Number of each race:\\n\", race_count)\n",
    "        print(\"Average age of men:\", average_age_men)\n",
    "        print(f\"Percentage with Bachelors degrees: {percentage_bachelors}%\")\n",
    "        print(f\"Percentage with higher education that earn >50K: {higher_education_rich}%\")\n",
    "        print(f\"Percentage without higher education that earn >50K: {lower_education_rich}%\")\n",
    "        print(f\"Min work time: {min_work_hours} hours/week\")\n",
    "        print(f\"Percentage of rich among those who work fewest hours: {rich_percentage}%\")\n",
    "        print(\"Country with highest percentage of rich:\", highest_earning_country)\n",
    "        print(f\"Highest percentage of rich people in country: {highest_earning_country_percentage}%\")\n",
    "        print(\"Top occupations in India:\", top_IN_occupation)\n",
    "\n",
    "    return {\n",
    "        'race_count': race_count,\n",
    "        'average_age_men': average_age_men,\n",
    "        'percentage_bachelors': percentage_bachelors,\n",
    "        'higher_education_rich': higher_education_rich,\n",
    "        'lower_education_rich': lower_education_rich,\n",
    "        'min_work_hours': min_work_hours,\n",
    "        'rich_percentage': rich_percentage,\n",
    "        'highest_earning_country': highest_earning_country,\n",
    "        'highest_earning_country_percentage':highest_earning_country_percentage,\n",
    "        'top_IN_occupation': top_IN_occupation\n",
    "    }\n",
    "\n",
    "calculate_demographic_data(print_data=True)"
   ],
   "id": "2f4ec9af0e3a700b",
   "outputs": [
    {
     "name": "stdout",
     "output_type": "stream",
     "text": [
      "Number of each race:\n",
      " race\n",
      "White                 27816\n",
      "Black                  3124\n",
      "Asian-Pac-Islander     1039\n",
      "Amer-Indian-Eskimo      311\n",
      "Other                   271\n",
      "Name: count, dtype: int64\n",
      "Average age of men: 39.4\n",
      "Percentage with Bachelors degrees: 16.4%\n",
      "Percentage with higher education that earn >50K: 46.5%\n",
      "Percentage without higher education that earn >50K: 17.4%\n",
      "Min work time: 1 hours/week\n",
      "Percentage of rich among those who work fewest hours: 10.0%\n",
      "Country with highest percentage of rich: Iran\n",
      "Highest percentage of rich people in country: 41.9%\n",
      "Top occupations in India: Prof-specialty\n"
     ]
    },
    {
     "data": {
      "text/plain": [
       "{'race_count': race\n",
       " White                 27816\n",
       " Black                  3124\n",
       " Asian-Pac-Islander     1039\n",
       " Amer-Indian-Eskimo      311\n",
       " Other                   271\n",
       " Name: count, dtype: int64,\n",
       " 'average_age_men': np.float64(39.4),\n",
       " 'percentage_bachelors': 16.4,\n",
       " 'higher_education_rich': 46.5,\n",
       " 'lower_education_rich': 17.4,\n",
       " 'min_work_hours': np.int64(1),\n",
       " 'rich_percentage': 10.0,\n",
       " 'highest_earning_country': 'Iran',\n",
       " 'highest_earning_country_percentage': np.float64(41.9),\n",
       " 'top_IN_occupation': 'Prof-specialty'}"
      ]
     },
     "execution_count": 2,
     "metadata": {},
     "output_type": "execute_result"
    }
   ],
   "execution_count": 2
  }
 ],
 "metadata": {
  "kernelspec": {
   "display_name": "Python 3",
   "language": "python",
   "name": "python3"
  },
  "language_info": {
   "codemirror_mode": {
    "name": "ipython",
    "version": 2
   },
   "file_extension": ".py",
   "mimetype": "text/x-python",
   "name": "python",
   "nbconvert_exporter": "python",
   "pygments_lexer": "ipython2",
   "version": "2.7.6"
  }
 },
 "nbformat": 4,
 "nbformat_minor": 5
}
